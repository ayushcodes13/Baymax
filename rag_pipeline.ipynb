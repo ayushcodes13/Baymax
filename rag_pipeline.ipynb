{
 "cells": [
  {
   "cell_type": "markdown",
   "id": "005de078",
   "metadata": {},
   "source": [
    "## Another Method"
   ]
  },
  {
   "cell_type": "code",
   "execution_count": 10,
   "id": "0488205e",
   "metadata": {},
   "outputs": [
    {
     "name": "stderr",
     "output_type": "stream",
     "text": [
      "[nltk_data] Downloading package punkt to\n",
      "[nltk_data]     /Users/devayushrout/nltk_data...\n",
      "[nltk_data]   Unzipping tokenizers/punkt.zip.\n"
     ]
    },
    {
     "data": {
      "text/plain": [
       "True"
      ]
     },
     "execution_count": 10,
     "metadata": {},
     "output_type": "execute_result"
    }
   ],
   "source": [
    "import nltk\n",
    "nltk.download('punkt')"
   ]
  },
  {
   "cell_type": "code",
   "execution_count": 11,
   "id": "153f74f7",
   "metadata": {},
   "outputs": [],
   "source": [
    "SYMPTOM_KEYWORDS = [\n",
    "    \"fever\", \"cough\", \"cold\", \"pain\", \"headache\", \"vomiting\", \"diarrhea\",\n",
    "    \"sore throat\", \"rash\", \"swelling\", \"chills\", \"fatigue\", \"nausea\",\n",
    "    \"shortness of breath\", \"wheezing\", \"bleeding\", \"dizziness\", \"burns\",\n",
    "]"
   ]
  },
  {
   "cell_type": "code",
   "execution_count": 12,
   "id": "b34b170e",
   "metadata": {},
   "outputs": [
    {
     "name": "stdout",
     "output_type": "stream",
     "text": [
      "✅ Done. Total chunks created: 4599\n"
     ]
    }
   ],
   "source": [
    "import os\n",
    "import json\n",
    "from nltk.tokenize import sent_tokenize\n",
    "from tqdm import tqdm\n",
    "\n",
    "SYMPTOM_KEYWORDS = [\n",
    "    \"fever\", \"cough\", \"cold\", \"pain\", \"headache\", \"vomiting\", \"diarrhea\",\n",
    "    \"sore throat\", \"rash\", \"swelling\", \"chills\", \"fatigue\", \"nausea\",\n",
    "    \"shortness of breath\", \"wheezing\", \"bleeding\", \"dizziness\", \"burns\",\n",
    "]\n",
    "\n",
    "def find_symptoms(sentence):\n",
    "    symptoms = [s for s in SYMPTOM_KEYWORDS if s.lower() in sentence.lower()]\n",
    "    return symptoms\n",
    "\n",
    "def smart_chunk_text(text, source_name, priority=1, chunk_size=4):\n",
    "    sentences = sent_tokenize(text)\n",
    "    chunks = []\n",
    "    i = 0\n",
    "\n",
    "    while i < len(sentences):\n",
    "        group = sentences[i:i+chunk_size]\n",
    "        combined = \" \".join(group)\n",
    "        found = []\n",
    "\n",
    "        for sent in group:\n",
    "            found += find_symptoms(sent)\n",
    "\n",
    "        found = list(set(found))  # Remove duplicates\n",
    "\n",
    "        if found:\n",
    "            chunk = {\n",
    "                \"text\": combined,\n",
    "                \"symptoms\": found,\n",
    "                \"source\": source_name,\n",
    "                \"type\": \"rural_remedy\" if \"no_doctor\" in source_name else \"clinical\",\n",
    "                \"priority\": priority\n",
    "            }\n",
    "            chunks.append(chunk)\n",
    "\n",
    "        i += chunk_size\n",
    "\n",
    "    return chunks\n",
    "\n",
    "# 🔄 Loop over all text files in your knowledge base\n",
    "all_chunks = []\n",
    "\n",
    "root_folder = \"Baymax_KnowledgeBase\"  # ← your base folder with 5 sources\n",
    "\n",
    "for folder in os.listdir(root_folder):\n",
    "    folder_path = os.path.join(root_folder, folder)\n",
    "    if os.path.isdir(folder_path):\n",
    "        priority = 1 if \"no_doctor\" in folder else 2 if \"iphs\" in folder else 3\n",
    "        for file in os.listdir(folder_path):\n",
    "            if file.endswith(\".txt\"):\n",
    "                with open(os.path.join(folder_path, file), \"r\", encoding=\"utf-8\") as f:\n",
    "                    text = f.read()\n",
    "                    chunks = smart_chunk_text(text, folder, priority)\n",
    "                    all_chunks.extend(chunks)\n",
    "\n",
    "# 💾 Save all chunks as a JSONL file\n",
    "with open(\"symptom_chunks.jsonl\", \"w\", encoding=\"utf-8\") as f:\n",
    "    for chunk in all_chunks:\n",
    "        f.write(json.dumps(chunk) + \"\\n\")\n",
    "\n",
    "print(f\"✅ Done. Total chunks created: {len(all_chunks)}\")"
   ]
  },
  {
   "cell_type": "code",
   "execution_count": 13,
   "id": "c408c338",
   "metadata": {},
   "outputs": [
    {
     "name": "stdout",
     "output_type": "stream",
     "text": [
      "Loaded 4599 chunks.\n",
      "✅ FAISS vectorstore saved to 'baymax_vectorstore/'\n"
     ]
    }
   ],
   "source": [
    "from langchain.vectorstores import FAISS\n",
    "from langchain.embeddings import HuggingFaceEmbeddings\n",
    "from langchain.schema import Document\n",
    "import json\n",
    "\n",
    "# Load your symptom-tagged chunks\n",
    "chunks = []\n",
    "with open(\"symptom_chunks.jsonl\", \"r\", encoding=\"utf-8\") as f:\n",
    "    for line in f:\n",
    "        data = json.loads(line)\n",
    "        chunks.append(\n",
    "            Document(\n",
    "                page_content=data[\"text\"],\n",
    "                metadata={\n",
    "                    \"symptoms\": data[\"symptoms\"],\n",
    "                    \"source\": data[\"source\"],\n",
    "                    \"type\": data[\"type\"],\n",
    "                    \"priority\": data[\"priority\"]\n",
    "                }\n",
    "            )\n",
    "        )\n",
    "\n",
    "print(f\"Loaded {len(chunks)} chunks.\")\n",
    "\n",
    "# Set up embedding model\n",
    "embedding_model = HuggingFaceEmbeddings(model_name=\"sentence-transformers/all-MiniLM-L6-v2\")\n",
    "\n",
    "# Build FAISS vectorstore from chunks\n",
    "vectorstore = FAISS.from_documents(chunks, embedding_model)\n",
    "\n",
    "# Save it to disk\n",
    "vectorstore.save_local(\"baymax_vectorstore\")\n",
    "print(\"✅ FAISS vectorstore saved to 'baymax_vectorstore/'\")"
   ]
  },
  {
   "cell_type": "code",
   "execution_count": 26,
   "id": "3226c792",
   "metadata": {},
   "outputs": [
    {
     "name": "stdout",
     "output_type": "stream",
     "text": [
      "\n",
      "---\n",
      "Text: Where There Is No Doctor 2011\n",
      "162\n",
      "HEADACHES AND MIGRAINES\n",
      "SIMPLE HEADACHE can be helped by rest \n",
      "and aspirin. It often helps to put a cloth \n",
      "soaked in hot water on the back of the \n",
      "neck and to massage (rub) the neck \n",
      "and shoulders gently. Some other home \n",
      "remedies also seem to help. Headache is comm\n",
      "Metadata: {'symptoms': ['fever', 'headache'], 'source': 'rural_care', 'type': 'clinical', 'priority': 3}\n",
      "\n",
      "---\n",
      "Text: Let \n",
      "the air reach his body. This will help the fever go \n",
      "down (see p. 76). True. It helps.\n",
      "Metadata: {'symptoms': ['fever'], 'source': 'rural_care', 'type': 'clinical', 'priority': 3}\n",
      "\n",
      "---\n",
      "Text: 4. \u0007Pour cool (not cold) water over him, or put cloths soaked in cool water on his \n",
      "chest and forehead. Fan the cloths and change them often to keep them cool. Continue to do this until the fever goes down (below 38°).\n",
      "Metadata: {'symptoms': ['cold', 'fever'], 'source': 'rural_care', 'type': 'clinical', 'priority': 3}\n",
      "\n",
      "---\n",
      "Text: Bring the fever down as soon \n",
      "as you can and treat the cause of the fever, if possible. High fever can cause seizures \n",
      "(convulsions) and is most dangerous for small children. When a fever goes very high (over 40°), it must be lowered at once:\n",
      "1. Put the person in a cool place.\n",
      "Metadata: {'symptoms': ['fever'], 'source': 'rural_care', 'type': 'clinical', 'priority': 3}\n",
      "\n",
      "---\n",
      "Text: Ask a health worker which medicine works best where \n",
      "you live. ♦\t Lower the fever with cool wet cloths (see p. 76). ♦\t Give plenty of liquids: soups, juices, and Rehydration Drink to avoid dehydration \n",
      "(see p. 152). ♦\t Give nutritious foods, in liquid form if necessary.\n",
      "Metadata: {'symptoms': ['fever'], 'source': 'rural_care', 'type': 'clinical', 'priority': 3}\n"
     ]
    }
   ],
   "source": [
    "from langchain.vectorstores import FAISS\n",
    "\n",
    "# Load saved vectorstore\n",
    "vs = FAISS.load_local(\"baymax_vectorstore\", embedding_model, allow_dangerous_deserialization=True)\n",
    "\n",
    "# Test a query\n",
    "docs = vs.similarity_search(\"What to do if someone has fever and headache?\", k=5)\n",
    "\n",
    "for doc in docs:\n",
    "    print(\"\\n---\")\n",
    "    print(\"Text:\", doc.page_content[:300])\n",
    "    print(\"Metadata:\", doc.metadata)"
   ]
  },
  {
   "cell_type": "code",
   "execution_count": 16,
   "id": "8408165a",
   "metadata": {},
   "outputs": [],
   "source": [
    "# symptom_map.py\n",
    "symptom_synonyms = {\n",
    "    \"fever\": [\"bukhar\", \"tapman\", \"high temperature\"],\n",
    "    \"headache\": [\"sar dard\", \"sar mein dard\", \"migraine\"],\n",
    "    \"cough\": [\"khaansi\", \"khansi\", \"dry cough\"],\n",
    "    \"cold\": [\"zukaam\", \"runny nose\", \"nasal congestion\"],\n",
    "    \"vomiting\": [\"ulti\", \"throwing up\", \"nausea\"],\n",
    "    \"diarrhea\": [\"patla mal\", \"loose motions\"],\n",
    "    \"body pain\": [\"jodo ka dard\", \"sareer mein dard\", \"body ache\"],\n",
    "    \"sore throat\": [\"gale mein dard\", \"gala kharab\"],\n",
    "    # Keep adding more\n",
    "}"
   ]
  },
  {
   "cell_type": "code",
   "execution_count": 17,
   "id": "18709301",
   "metadata": {},
   "outputs": [],
   "source": [
    "from fuzzywuzzy import fuzz\n",
    "\n",
    "def normalize_symptoms(user_input):\n",
    "    normalized = set()\n",
    "\n",
    "    for standard, synonyms in symptom_synonyms.items():\n",
    "        for term in synonyms:\n",
    "            score = fuzz.partial_ratio(term.lower(), user_input.lower())\n",
    "            if score >= 85:\n",
    "                normalized.add(standard)\n",
    "    return list(normalized)"
   ]
  },
  {
   "cell_type": "code",
   "execution_count": null,
   "id": "d100f1d6",
   "metadata": {},
   "outputs": [
    {
     "name": "stdout",
     "output_type": "stream",
     "text": [
      "Normalized symptoms: ['fever', 'headache']\n"
     ]
    }
   ],
   "source": [
    "query = \"Mujhe bukhar aur sar dard hai\"\n",
    "matched = normalize_symptoms(query)\n",
    "\n",
    "print(\"Normalized symptoms:\", matched)"
   ]
  },
  {
   "cell_type": "code",
   "execution_count": 19,
   "id": "c0df9554",
   "metadata": {},
   "outputs": [],
   "source": [
    "def search_by_symptoms(symptom_list, vectorstore, top_k=3):\n",
    "    joined = \" \".join(symptom_list)\n",
    "    results = vectorstore.similarity_search(joined, k=top_k)\n",
    "\n",
    "    for doc in results:\n",
    "        print(\"\\n---\")\n",
    "        print(\"Text:\", doc.page_content[:300])\n",
    "        print(\"Metadata:\", doc.metadata)"
   ]
  },
  {
   "cell_type": "code",
   "execution_count": 20,
   "id": "14dabd6d",
   "metadata": {},
   "outputs": [],
   "source": [
    "def get_top_chunk_by_source(symptoms, vectorstore, sources=[\"rural_care\", \"cmdt\", \"nfi\"], k=5):\n",
    "    joined = \" \".join(symptoms)\n",
    "    results = vectorstore.similarity_search_with_score(joined, k=k)\n",
    "\n",
    "    selected = {}\n",
    "    for doc, score in results:\n",
    "        source = doc.metadata.get(\"source\")\n",
    "        if source in sources and source not in selected:\n",
    "            selected[source] = doc\n",
    "    return selected"
   ]
  },
  {
   "cell_type": "code",
   "execution_count": 21,
   "id": "7e2e91e9",
   "metadata": {},
   "outputs": [],
   "source": [
    "symptoms = ['fever', 'cough']\n",
    "chunks = get_top_chunk_by_source(symptoms, db)\n",
    "\n",
    "for source, doc in chunks.items():\n",
    "    print(f\"\\n📘 {source} → {doc.metadata}\")\n",
    "    print(doc.page_content[:400])"
   ]
  },
  {
   "cell_type": "code",
   "execution_count": 25,
   "id": "203e5017",
   "metadata": {},
   "outputs": [
    {
     "name": "stdout",
     "output_type": "stream",
     "text": [
      "Temperature rises quickly. Cough with green, yellow, or \n",
      "bloody mucus. May be pain in \n",
      "chest. Person very ill.\n",
      "Rheumatic fever: (see p. 310)\n",
      "Most common in children \n",
      "and teenagers.\n"
     ]
    }
   ],
   "source": [
    "from langchain.vectorstores import FAISS\n",
    "from langchain.embeddings import HuggingFaceEmbeddings\n",
    "\n",
    "# Step 1 – Load model\n",
    "embedding_model = HuggingFaceEmbeddings(model_name=\"sentence-transformers/all-MiniLM-L6-v2\")\n",
    "\n",
    "# Step 2 – Load DB\n",
    "db = FAISS.load_local(\"baymax_vectorstore\", embedding_model, allow_dangerous_deserialization=True)\n",
    "# Step 3 – Search one best chunk per book\n",
    "symptoms = ['fever', 'cough']\n",
    "chunks = get_top_chunk_by_source(symptoms, db)\n",
    "\n",
    "# Step 4 – Feed into your LLM\n",
    "print(chunks[\"rural_care\"].page_content[:300])"
   ]
  },
  {
   "cell_type": "code",
   "execution_count": 27,
   "id": "5ea8e0af",
   "metadata": {},
   "outputs": [],
   "source": [
    "symptoms = ['fever', 'headache']\n",
    "query = \" \".join(symptoms) + \" what to do?\"\n",
    "\n",
    "docs = vs.similarity_search(query, k=10)\n",
    "\n",
    "# Optionally post-process: pick top-1 per source\n",
    "result = {}\n",
    "for doc in docs:\n",
    "    src = doc.metadata.get(\"source\", \"unknown\")\n",
    "    if src not in result:\n",
    "        result[src] = doc"
   ]
  },
  {
   "cell_type": "code",
   "execution_count": 28,
   "id": "63e61c6d",
   "metadata": {},
   "outputs": [
    {
     "data": {
      "text/plain": [
       "{'rural_care': Document(id='6129818d-c618-439c-ade0-d588a3f2069b', metadata={'symptoms': ['fever', 'headache'], 'source': 'rural_care', 'type': 'clinical', 'priority': 3}, page_content='Where There Is No Doctor 2011\\n162\\nHEADACHES AND MIGRAINES\\nSIMPLE HEADACHE can be helped by rest \\nand aspirin. It often helps to put a cloth \\nsoaked in hot water on the back of the \\nneck and to massage (rub) the neck \\nand shoulders gently. Some other home \\nremedies also seem to help. Headache is common with \\nany sickness that causes fever.'),\n",
       " 'consultation_flow': Document(id='be3703d9-9493-4805-8967-0616805bbd8e', metadata={'symptoms': ['fever', 'headache'], 'source': 'consultation_flow', 'type': 'clinical', 'priority': 3}, page_content='CNS abscess\\n6. Septic cavernous sinus thrombosis\\nB. Although certainly not the most common cause of fever and\\nheadache, meningitis is a relatively common, potentially life-\\nthreatening illness. C. Viral causes are 3–4 times more common than bacterial\\ncauses and have a generally favorable prognosis.')}"
      ]
     },
     "execution_count": 28,
     "metadata": {},
     "output_type": "execute_result"
    }
   ],
   "source": [
    "result"
   ]
  },
  {
   "cell_type": "code",
   "execution_count": null,
   "id": "aa747001",
   "metadata": {},
   "outputs": [],
   "source": []
  }
 ],
 "metadata": {
  "kernelspec": {
   "display_name": "venv",
   "language": "python",
   "name": "python3"
  },
  "language_info": {
   "codemirror_mode": {
    "name": "ipython",
    "version": 3
   },
   "file_extension": ".py",
   "mimetype": "text/x-python",
   "name": "python",
   "nbconvert_exporter": "python",
   "pygments_lexer": "ipython3",
   "version": "3.9.6"
  }
 },
 "nbformat": 4,
 "nbformat_minor": 5
}
