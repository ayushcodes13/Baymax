{
 "cells": [
  {
   "cell_type": "code",
   "execution_count": null,
   "id": "6deff831",
   "metadata": {},
   "outputs": [],
   "source": [
    "from langchain.document_loaders import TextLoader\n",
    "from langchain.text_splitter import RecursiveCharacterTextSplitter\n",
    "from langchain.schema import Document\n",
    "\n",
    "# Load all .txt files\n",
    "def load_documents_from_folder(folder_path):\n",
    "    import os\n",
    "    docs = []\n",
    "    for file_name in os.listdir(folder_path):\n",
    "        if file_name.endswith(\".txt\"):\n",
    "            path = os.path.join(folder_path, file_name)\n",
    "            loader = TextLoader(path)\n",
    "            docs += loader.load()\n",
    "    return docs\n",
    "\n",
    "# Split into chunks\n",
    "splitter = RecursiveCharacterTextSplitter(chunk_size=800, chunk_overlap=100)\n",
    "documents = load_documents_from_folder(\"Baymax_KnowledgeBase\")\n",
    "chunks = splitter.split_documents(documents)"
   ]
  }
 ],
 "metadata": {
  "language_info": {
   "name": "python"
  }
 },
 "nbformat": 4,
 "nbformat_minor": 5
}
