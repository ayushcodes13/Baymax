{
 "cells": [
  {
   "cell_type": "markdown",
   "id": "1e0bb14a",
   "metadata": {},
   "source": [
    "## PDF to .txt"
   ]
  },
  {
   "cell_type": "code",
   "execution_count": 25,
   "id": "6c4696e5",
   "metadata": {},
   "outputs": [
    {
     "name": "stdout",
     "output_type": "stream",
     "text": [
      "✅ Saved Baymax_KnowledgeBase/2022, CURRENT Medical Diagnosis and Treatment- Original Revised.txt\n",
      "✅ Saved Baymax_KnowledgeBase/Symptoms to diagnosis Revised.txt\n",
      "✅ Saved Baymax_KnowledgeBase/Where there is no Doctor - David Werner Revised.1.txt\n",
      "✅ Saved Baymax_KnowledgeBase/National-Formulary-of-India-2011 Revised.txt\n",
      "✅ Saved Baymax_KnowledgeBase/03_PHC_IPHS_Guidelines-2022 Revised.txt\n"
     ]
    }
   ],
   "source": [
    "import fitz  # PyMuPDF\n",
    "import os\n",
    "\n",
    "# Input and output folders\n",
    "pdf_folder = \"pdfs\"\n",
    "output_folder = \"Baymax_KnowledgeBase\"\n",
    "\n",
    "# Make sure output folder exists\n",
    "os.makedirs(output_folder, exist_ok=True)\n",
    "\n",
    "# Loop through each PDF\n",
    "for filename in os.listdir(pdf_folder):\n",
    "    if filename.endswith(\".pdf\"):\n",
    "        pdf_path = os.path.join(pdf_folder, filename)\n",
    "        doc = fitz.open(pdf_path)\n",
    "\n",
    "        text = \"\"\n",
    "        for page in doc:\n",
    "            text += page.get_text()\n",
    "\n",
    "        # Remove .pdf and save as .txt\n",
    "        base_name = os.path.splitext(filename)[0]\n",
    "        txt_path = os.path.join(output_folder, f\"{base_name}.txt\")\n",
    "\n",
    "        with open(txt_path, \"w\", encoding=\"utf-8\") as f:\n",
    "            f.write(text)\n",
    "\n",
    "        print(f\"✅ Saved {txt_path}\")"
   ]
  },
  {
   "cell_type": "code",
   "execution_count": 26,
   "id": "97752d74",
   "metadata": {},
   "outputs": [
    {
     "name": "stdout",
     "output_type": "stream",
     "text": [
      "✅ Renamed: 2022, CURRENT Medical Diagnosis and Treatment- Original Revised.txt → cmdt.txt\n",
      "✅ Renamed: Symptoms to diagnosis Revised.txt → symptom_flow.txt\n",
      "✅ Renamed: Where there is no Doctor - David Werner Revised.1.txt → rural_care.txt\n",
      "✅ Renamed: National-Formulary-of-India-2011 Revised.txt → nfi.txt\n",
      "✅ Renamed: 03_PHC_IPHS_Guidelines-2022 Revised.txt → iphs.txt\n"
     ]
    }
   ],
   "source": [
    "import os\n",
    "\n",
    "rename_map = {\n",
    "    \"2022, CURRENT Medical Diagnosis and Treatment- Original Revised.txt\": \"cmdt.txt\",\n",
    "    \"Symptoms to diagnosis Revised.txt\": \"symptom_flow.txt\",\n",
    "    \"Where there is no Doctor - David Werner Revised.1.txt\": \"rural_care.txt\",\n",
    "    \"National-Formulary-of-India-2011 Revised.txt\": \"nfi.txt\",\n",
    "    \"03_PHC_IPHS_Guidelines-2022 Revised.txt\": \"iphs.txt\",\n",
    "}\n",
    "\n",
    "base_path = \"Baymax_KnowledgeBase\"\n",
    "\n",
    "for old_name, new_name in rename_map.items():\n",
    "    old_path = os.path.join(base_path, old_name)\n",
    "    new_path = os.path.join(base_path, new_name)\n",
    "    if os.path.exists(old_path):\n",
    "        os.rename(old_path, new_path)\n",
    "        print(f\"✅ Renamed: {old_name} → {new_name}\")\n",
    "    else:\n",
    "        print(f\"❌ File not found: {old_name}\")"
   ]
  },
  {
   "cell_type": "markdown",
   "id": "bb795ad1",
   "metadata": {},
   "source": [
    "## Smart Chunking & Metadata Tagging"
   ]
  },
  {
   "cell_type": "code",
   "execution_count": 11,
   "id": "00ebc209",
   "metadata": {},
   "outputs": [
    {
     "name": "stderr",
     "output_type": "stream",
     "text": [
      "[nltk_data] Downloading package punkt to\n",
      "[nltk_data]     /Users/devayushrout/nltk_data...\n",
      "[nltk_data]   Package punkt is already up-to-date!\n"
     ]
    },
    {
     "data": {
      "text/plain": [
       "True"
      ]
     },
     "execution_count": 11,
     "metadata": {},
     "output_type": "execute_result"
    }
   ],
   "source": [
    "import nltk\n",
    "nltk.download('punkt')"
   ]
  },
  {
   "cell_type": "code",
   "execution_count": 12,
   "id": "ef4c9677",
   "metadata": {},
   "outputs": [],
   "source": [
    "from nltk.tokenize import sent_tokenize\n",
    "import os\n",
    "from tqdm import tqdm\n",
    "import tiktoken "
   ]
  },
  {
   "cell_type": "code",
   "execution_count": 13,
   "id": "457f7469",
   "metadata": {},
   "outputs": [],
   "source": [
    "tokenizer = tiktoken.get_encoding(\"p50k_base\")\n",
    "\n",
    "def count_tokens(text):\n",
    "    return len(tokenizer.encode(text))"
   ]
  },
  {
   "cell_type": "code",
   "execution_count": 14,
   "id": "17f59d60",
   "metadata": {},
   "outputs": [],
   "source": [
    "def smart_chunk(text, source, max_tokens=500):\n",
    "    sentences = sent_tokenize(text)\n",
    "    chunks = []\n",
    "    current_chunk = \"\"\n",
    "    current_tokens = 0\n",
    "\n",
    "    for sentence in sentences:\n",
    "        tokens = count_tokens(sentence)\n",
    "        if current_tokens + tokens > max_tokens:\n",
    "            if current_chunk:\n",
    "                chunks.append({\n",
    "                    \"text\": current_chunk.strip(),\n",
    "                    \"metadata\": {\n",
    "                        \"source\": source\n",
    "                    }\n",
    "                })\n",
    "            current_chunk = sentence\n",
    "            current_tokens = tokens\n",
    "        else:\n",
    "            current_chunk += \" \" + sentence\n",
    "            current_tokens += tokens\n",
    "\n",
    "    # Add last chunk\n",
    "    if current_chunk:\n",
    "        chunks.append({\n",
    "            \"text\": current_chunk.strip(),\n",
    "            \"metadata\": {\n",
    "                \"source\": source\n",
    "            }\n",
    "        })\n",
    "\n",
    "    return chunks"
   ]
  },
  {
   "cell_type": "code",
   "execution_count": 15,
   "id": "a5cf4e52",
   "metadata": {},
   "outputs": [
    {
     "ename": "FileNotFoundError",
     "evalue": "[Errno 2] No such file or directory: 'Baymax_KnowledgeBase'",
     "output_type": "error",
     "traceback": [
      "\u001b[0;31m---------------------------------------------------------------------------\u001b[0m",
      "\u001b[0;31mFileNotFoundError\u001b[0m                         Traceback (most recent call last)",
      "Cell \u001b[0;32mIn[15], line 4\u001b[0m\n\u001b[1;32m      1\u001b[0m knowledge_dir \u001b[38;5;241m=\u001b[39m \u001b[38;5;124m\"\u001b[39m\u001b[38;5;124mBaymax_KnowledgeBase\u001b[39m\u001b[38;5;124m\"\u001b[39m\n\u001b[1;32m      2\u001b[0m all_chunks \u001b[38;5;241m=\u001b[39m []\n\u001b[0;32m----> 4\u001b[0m \u001b[38;5;28;01mfor\u001b[39;00m filename \u001b[38;5;129;01min\u001b[39;00m tqdm(\u001b[43mos\u001b[49m\u001b[38;5;241;43m.\u001b[39;49m\u001b[43mlistdir\u001b[49m\u001b[43m(\u001b[49m\u001b[43mknowledge_dir\u001b[49m\u001b[43m)\u001b[49m):\n\u001b[1;32m      5\u001b[0m     filepath \u001b[38;5;241m=\u001b[39m os\u001b[38;5;241m.\u001b[39mpath\u001b[38;5;241m.\u001b[39mjoin(knowledge_dir, filename)\n\u001b[1;32m      6\u001b[0m     \u001b[38;5;28;01mwith\u001b[39;00m \u001b[38;5;28mopen\u001b[39m(filepath, \u001b[38;5;124m\"\u001b[39m\u001b[38;5;124mr\u001b[39m\u001b[38;5;124m\"\u001b[39m, encoding\u001b[38;5;241m=\u001b[39m\u001b[38;5;124m\"\u001b[39m\u001b[38;5;124mutf-8\u001b[39m\u001b[38;5;124m\"\u001b[39m) \u001b[38;5;28;01mas\u001b[39;00m f:\n",
      "\u001b[0;31mFileNotFoundError\u001b[0m: [Errno 2] No such file or directory: 'Baymax_KnowledgeBase'"
     ]
    }
   ],
   "source": [
    "knowledge_dir = \"Baymax_KnowledgeBase\"\n",
    "all_chunks = []\n",
    "\n",
    "for filename in tqdm(os.listdir(knowledge_dir)):\n",
    "    filepath = os.path.join(knowledge_dir, filename)\n",
    "    with open(filepath, \"r\", encoding=\"utf-8\") as f:\n",
    "        raw_text = f.read()\n",
    "\n",
    "    source_name = filename.replace(\".txt\", \"\")\n",
    "    chunks = smart_chunk(raw_text, source=source_name)\n",
    "    all_chunks.extend(chunks)\n",
    "\n",
    "print(f\"Total chunks created: {len(all_chunks)}\")"
   ]
  },
  {
   "cell_type": "code",
   "execution_count": null,
   "id": "0da43249",
   "metadata": {},
   "outputs": [
    {
     "name": "stdout",
     "output_type": "stream",
     "text": [
      "{'text': 'Section\\nObjectives of IPHS for HWC-PHC | 5 \\nObjectives of IPHS \\nfor HWC-PHC\\n3\\nThe broad objectives of the Indian Public Health Standards (IPHS) for PHC in rural and urban areas include \\nthe following:\\n1. To define uniform benchmark to ensure high quality services that are accountable, responsive, and \\nsensitive to the needs of the community. 2. To specify the minimum assured (essential) and achievable (desirable) services that are expected to \\nbe provided at different levels of public health facilities. 3. To provide guidance on health systems strengthening components which includes architectural \\ndesign of facilities, human resources for health, drugs, diagnostics, equipment, administrative and \\nlogistical support services to improve the overall health related outcomes \\n4. To achieve and maintain an acceptable standard of the quality of care at public facilities\\n5. To facilitate monitoring and supervision of the facilities\\n6. To provide guidance and tools for governance, leadership and evaluation. Section\\nPopulation Norms for HWC-PHC | 7 \\nPopulation Norms \\nfor HWC-PHC\\n5\\nNormally, a PHC in rural areas is to be established for a population of 20,000 (in hilly and tribal areas) and \\n30,000 (in plains). It should be established co-terminus with Panchayats (depending upon the population) to \\nestablish effective convergence and linkages with citizen centric services. A Primary Health Centre (PHC) that \\nis linked to a cluster of Sub Health Centre - HWCs would be strengthened as HWC to deliver the expanded \\nrange of primary care services with complete 12 package of services. In addition, it would also serve as the \\nfirst point of referral for all the SHC-HWCs in its jurisdiction. In urban areas, usually the population density is high and there are various types of health care facilities \\nwhich provide inpatient care. So, the approach in urban areas for establishing PHCs shall be different from \\nthat in rural areas. UPHCs are established for every 50,000 population, and in close proximity to urban \\nslums.', 'metadata': {'source': 'iphs'}}\n"
     ]
    }
   ],
   "source": [
    "print(all_chunks[0])"
   ]
  },
  {
   "cell_type": "code",
   "execution_count": null,
   "id": "046e1e9f",
   "metadata": {},
   "outputs": [],
   "source": [
    "import json\n",
    "\n",
    "with open(\"baymax_chunks.json\", \"w\", encoding=\"utf-8\") as f:\n",
    "    json.dump(all_chunks, f, indent=2, ensure_ascii=False)"
   ]
  },
  {
   "cell_type": "code",
   "execution_count": null,
   "id": "aa37c996",
   "metadata": {},
   "outputs": [],
   "source": [
    "from langchain.docstore.document import Document\n",
    "import os\n",
    "\n",
    "docs = []\n",
    "\n",
    "base_path = \"Baymax_KnowledgeBase\"\n",
    "\n",
    "# Manual source labels for each file\n",
    "file_to_source = {\n",
    "    \"rural_care.txt\": \"rural_care\",\n",
    "    \"cmdt.txt\": \"clinical_guidelines\",\n",
    "    \"symptom_flow.txt\": \"consultation_flow\",\n",
    "    \"iphs.txt\": \"protocol_guidelines\",\n",
    "    \"nfi.txt\": \"medication_safety\"\n",
    "}\n",
    "\n",
    "# Optional: Priority settings (used later for filtering)\n",
    "file_priority = {\n",
    "    \"rural_care.txt\": 1,\n",
    "    \"symptom_flow.txt\": 2,\n",
    "    \"iphs.txt\": 2,\n",
    "    \"cmdt.txt\": 3,\n",
    "    \"nfi.txt\": 3\n",
    "}\n",
    "\n",
    "# Loop and load\n",
    "for filename in os.listdir(base_path):\n",
    "    if filename.endswith(\".txt\"):\n",
    "        filepath = os.path.join(base_path, filename)\n",
    "        with open(filepath, \"r\", encoding=\"utf-8\") as f:\n",
    "            content = f.read()\n",
    "            docs.append(Document(\n",
    "                page_content=content,\n",
    "                metadata={\n",
    "                    \"source\": file_to_source.get(filename, \"unknown\"),\n",
    "                    \"priority\": file_priority.get(filename, 3),\n",
    "                    \"filename\": filename\n",
    "                }\n",
    "            ))"
   ]
  },
  {
   "cell_type": "markdown",
   "id": "dbf326ff",
   "metadata": {},
   "source": [
    "## Embeddings"
   ]
  },
  {
   "cell_type": "code",
   "execution_count": null,
   "id": "05c1066f",
   "metadata": {},
   "outputs": [],
   "source": [
    "from langchain.embeddings import HuggingFaceEmbeddings"
   ]
  },
  {
   "cell_type": "code",
   "execution_count": null,
   "id": "151d781d",
   "metadata": {},
   "outputs": [
    {
     "name": "stderr",
     "output_type": "stream",
     "text": [
      "/var/folders/t2/tk6lkml50qzfgl3s9gkmfkh00000gn/T/ipykernel_17806/412152783.py:1: LangChainDeprecationWarning: The class `HuggingFaceEmbeddings` was deprecated in LangChain 0.2.2 and will be removed in 1.0. An updated version of the class exists in the :class:`~langchain-huggingface package and should be used instead. To use it run `pip install -U :class:`~langchain-huggingface` and import as `from :class:`~langchain_huggingface import HuggingFaceEmbeddings``.\n",
      "  embedding_model = HuggingFaceEmbeddings(model_name=\"sentence-transformers/all-MiniLM-L6-v2\")\n",
      "/Users/devayushrout/Desktop/Baymax/venv/lib/python3.9/site-packages/tqdm/auto.py:21: TqdmWarning: IProgress not found. Please update jupyter and ipywidgets. See https://ipywidgets.readthedocs.io/en/stable/user_install.html\n",
      "  from .autonotebook import tqdm as notebook_tqdm\n"
     ]
    }
   ],
   "source": [
    "embedding_model = HuggingFaceEmbeddings(model_name=\"sentence-transformers/all-MiniLM-L6-v2\")"
   ]
  },
  {
   "cell_type": "code",
   "execution_count": null,
   "id": "22572185",
   "metadata": {},
   "outputs": [],
   "source": []
  }
 ],
 "metadata": {
  "kernelspec": {
   "display_name": "venv",
   "language": "python",
   "name": "python3"
  },
  "language_info": {
   "codemirror_mode": {
    "name": "ipython",
    "version": 3
   },
   "file_extension": ".py",
   "mimetype": "text/x-python",
   "name": "python",
   "nbconvert_exporter": "python",
   "pygments_lexer": "ipython3",
   "version": "3.9.6"
  }
 },
 "nbformat": 4,
 "nbformat_minor": 5
}
