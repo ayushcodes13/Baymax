{
 "cells": [
  {
   "cell_type": "code",
   "execution_count": 1,
   "id": "6284213f",
   "metadata": {},
   "outputs": [],
   "source": [
    "import os\n",
    "import json\n",
    "import sqlite3\n",
    "from langchain.vectorstores import FAISS\n",
    "from langchain.embeddings import HuggingFaceEmbeddings\n",
    "from langchain.schema import Document\n",
    "from groq import Groq\n",
    "from fuzzywuzzy import fuzz\n",
    "from nltk.tokenize import sent_tokenize\n",
    "import nltk"
   ]
  },
  {
   "cell_type": "code",
   "execution_count": 2,
   "id": "df7df7e6",
   "metadata": {},
   "outputs": [
    {
     "name": "stderr",
     "output_type": "stream",
     "text": [
      "[nltk_data] Downloading package punkt to\n",
      "[nltk_data]     /Users/devayushrout/nltk_data...\n",
      "[nltk_data]   Package punkt is already up-to-date!\n"
     ]
    },
    {
     "data": {
      "text/plain": [
       "True"
      ]
     },
     "execution_count": 2,
     "metadata": {},
     "output_type": "execute_result"
    }
   ],
   "source": [
    "nltk.download('punkt')\n"
   ]
  },
  {
   "cell_type": "code",
   "execution_count": 3,
   "id": "1baa042a",
   "metadata": {},
   "outputs": [],
   "source": [
    "# Symptom synonyms (from your codebase)\n",
    "symptom_synonyms = {\n",
    "    \"fever\": [\"bukhar\", \"tapman\", \"high temperature\", \"tez bukhar\"],\n",
    "    \"headache\": [\"sar dard\", \"sar mein dard\", \"migraine\"],\n",
    "    \"cough\": [\"khaansi\", \"khansi\", \"dry cough\"],\n",
    "    \"cold\": [\"zukaam\", \"runny nose\", \"nasal congestion\"],\n",
    "    \"vomiting\": [\"ulti\", \"throwing up\", \"nausea\"],\n",
    "    \"diarrhea\": [\"patla mal\", \"loose motions\", \"dast\"],\n",
    "    \"body pain\": [\"jodo ka dard\", \"sareer mein dard\", \"body ache\"],\n",
    "    \"sore throat\": [\"gale mein dard\", \"gala kharab\"],\n",
    "}"
   ]
  },
  {
   "cell_type": "code",
   "execution_count": 4,
   "id": "4a1309f5",
   "metadata": {},
   "outputs": [],
   "source": [
    "# Initialize ChatGroq\n",
    "client = Groq(api_key=os.getenv(\"GROQ_API_KEY\"))\n",
    "llm = lambda prompt: client.chat.completions.create(\n",
    "    model=\"llama3-70b-8192\",\n",
    "    messages=[{\"role\": \"user\", \"content\": prompt}],\n",
    "    temperature=0.7\n",
    ").choices[0].message.content"
   ]
  },
  {
   "cell_type": "code",
   "execution_count": 5,
   "id": "f1b46d44",
   "metadata": {},
   "outputs": [
    {
     "name": "stderr",
     "output_type": "stream",
     "text": [
      "/var/folders/t2/tk6lkml50qzfgl3s9gkmfkh00000gn/T/ipykernel_81541/3961499538.py:2: LangChainDeprecationWarning: The class `HuggingFaceEmbeddings` was deprecated in LangChain 0.2.2 and will be removed in 1.0. An updated version of the class exists in the :class:`~langchain-huggingface package and should be used instead. To use it run `pip install -U :class:`~langchain-huggingface` and import as `from :class:`~langchain_huggingface import HuggingFaceEmbeddings``.\n",
      "  embedding_model = HuggingFaceEmbeddings(model_name=\"sentence-transformers/all-MiniLM-L6-v2\")\n",
      "/Users/devayushrout/Desktop/Baymax/venv/lib/python3.9/site-packages/tqdm/auto.py:21: TqdmWarning: IProgress not found. Please update jupyter and ipywidgets. See https://ipywidgets.readthedocs.io/en/stable/user_install.html\n",
      "  from .autonotebook import tqdm as notebook_tqdm\n"
     ]
    }
   ],
   "source": [
    "# Load FAISS vectorstore\n",
    "embedding_model = HuggingFaceEmbeddings(model_name=\"sentence-transformers/all-MiniLM-L6-v2\")\n",
    "vectorstore = FAISS.load_local(\"baymax_vectorstore\", embedding_model, allow_dangerous_deserialization=True)"
   ]
  },
  {
   "cell_type": "code",
   "execution_count": 6,
   "id": "8fc65598",
   "metadata": {},
   "outputs": [],
   "source": [
    "# SQLite for conversation state\n",
    "def init_db():\n",
    "    conn = sqlite3.connect(\"conversations.db\")\n",
    "    c = conn.cursor()\n",
    "    c.execute(\"\"\"CREATE TABLE IF NOT EXISTS conversations\n",
    "                (user_id TEXT, session TEXT, symptoms TEXT, duration TEXT, severity INTEGER, history TEXT)\"\"\")\n",
    "    conn.commit()\n",
    "    return conn"
   ]
  },
  {
   "cell_type": "code",
   "execution_count": 7,
   "id": "96974e5e",
   "metadata": {},
   "outputs": [],
   "source": [
    "# Normalize symptoms (from your codebase)\n",
    "def normalize_symptoms(user_input):\n",
    "    normalized = set()\n",
    "    for standard, synonyms in symptom_synonyms.items():\n",
    "        for term in synonyms:\n",
    "            if fuzz.partial_ratio(term.lower(), user_input.lower()) >= 85:\n",
    "                normalized.add(standard)\n",
    "    return list(normalized)"
   ]
  },
  {
   "cell_type": "code",
   "execution_count": 8,
   "id": "dddcb3cc",
   "metadata": {},
   "outputs": [],
   "source": [
    "# Retrieve chunks (adapted from get_top_chunk_by_source)\n",
    "def retrieve_chunks(symptoms, vectorstore, top_k=5):\n",
    "    query = \" \".join(symptoms)\n",
    "    results = vectorstore.similarity_search_with_score(query, k=top_k)\n",
    "    selected = {}\n",
    "    for doc, score in results:\n",
    "        source = doc.metadata.get(\"source\")\n",
    "        if source not in selected and score > 0.85:\n",
    "            selected[source] = {\"content\": doc.page_content, \"metadata\": doc.metadata}\n",
    "    return selected"
   ]
  },
  {
   "cell_type": "code",
   "execution_count": null,
   "id": "ef9dd999",
   "metadata": {},
   "outputs": [],
   "source": []
  }
 ],
 "metadata": {
  "kernelspec": {
   "display_name": "venv",
   "language": "python",
   "name": "python3"
  },
  "language_info": {
   "codemirror_mode": {
    "name": "ipython",
    "version": 3
   },
   "file_extension": ".py",
   "mimetype": "text/x-python",
   "name": "python",
   "nbconvert_exporter": "python",
   "pygments_lexer": "ipython3",
   "version": "3.9.6"
  }
 },
 "nbformat": 4,
 "nbformat_minor": 5
}
